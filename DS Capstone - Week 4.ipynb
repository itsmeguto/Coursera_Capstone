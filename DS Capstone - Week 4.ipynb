{
 "cells": [
  {
   "cell_type": "markdown",
   "id": "68b13d08",
   "metadata": {},
   "source": [
    "# Introduction/Business Problem \n",
    "\n",
    "### Someone recently moved to Portugal and this person owns a franchising brand of restaurants. This person wants to know which will be the best city to fit his new restaurant.\n",
    "### Besides many other variables that might induct the person to decide where to start this new business, we will try to help him to decide where to start by creating one index which will consist of the ratio between the population of the city versus the number of restaurants that this city already has.\n",
    "### This index aims to give to the requester which city may be better once that will have an index with more demand and less offering restaurants.\n",
    "\n",
    "### Formula:\n",
    "### Potential Index = Population of each city divided by the number of restaurants"
   ]
  },
  {
   "cell_type": "markdown",
   "id": "2df8afb4",
   "metadata": {},
   "source": [
    "# Data Section\n",
    "\n",
    "## For this capstone, we will be using two main databases:\n",
    "### 1. We will be using the following spreadsheet which has been retrieved from https://simplemaps.com/data/pt-cities and consists with a list of all cities from Portugal, including the geospatial coordinates and the population.\n",
    "### 2. We will also use the Foursquare API in order to get how many restaurants we have in each city"
   ]
  },
  {
   "cell_type": "code",
   "execution_count": 2,
   "id": "fbd27e6e",
   "metadata": {},
   "outputs": [
    {
     "name": "stdout",
     "output_type": "stream",
     "text": [
      "                city      lat     lng   country iso2 admin_name  capital  \\\n",
      "0             Lisbon  38.7452 -9.1604  Portugal   PT     Lisboa  primary   \n",
      "1  Vila Nova de Gaia  41.1333 -8.6167  Portugal   PT      Porto    minor   \n",
      "2              Porto  41.1495 -8.6108  Portugal   PT      Porto    admin   \n",
      "3              Braga  41.5333 -8.4167  Portugal   PT      Braga    admin   \n",
      "4         Matosinhos  41.2077 -8.6674  Portugal   PT      Porto    minor   \n",
      "\n",
      "   population  population_proper  \n",
      "0    506654.0           506654.0  \n",
      "1    302295.0           302295.0  \n",
      "2    237591.0           237591.0  \n",
      "3    181494.0           181494.0  \n",
      "4    175478.0           175478.0  \n"
     ]
    }
   ],
   "source": [
    "import pandas as pd\n",
    "\n",
    "df_pt = pd.read_csv(\"pt.csv\")\n",
    "print(df_pt.head())"
   ]
  },
  {
   "cell_type": "code",
   "execution_count": null,
   "id": "26f6e600",
   "metadata": {},
   "outputs": [],
   "source": []
  }
 ],
 "metadata": {
  "kernelspec": {
   "display_name": "Python 3.9.5 64-bit ('venv')",
   "language": "python",
   "name": "python395jvsc74a57bd0a31dc882e411d8c45ae191d61ce30c82c6a81547d6ec7e70a1e596abc3c2a78e"
  },
  "language_info": {
   "codemirror_mode": {
    "name": "ipython",
    "version": 3
   },
   "file_extension": ".py",
   "mimetype": "text/x-python",
   "name": "python",
   "nbconvert_exporter": "python",
   "pygments_lexer": "ipython3",
   "version": "3.9.5"
  }
 },
 "nbformat": 4,
 "nbformat_minor": 5
}
