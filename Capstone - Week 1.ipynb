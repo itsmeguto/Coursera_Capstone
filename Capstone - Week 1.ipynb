{
 "cells": [
  {
   "cell_type": "markdown",
   "id": "a9eaaa7a",
   "metadata": {},
   "source": [
    "# Capstone - Week 1"
   ]
  },
  {
   "cell_type": "code",
   "execution_count": 1,
   "id": "4b8c19b8",
   "metadata": {},
   "outputs": [],
   "source": [
    "import pandas as pd\n",
    "import numpy as np"
   ]
  },
  {
   "cell_type": "code",
   "execution_count": 2,
   "id": "ebfdca0f",
   "metadata": {},
   "outputs": [
    {
     "name": "stdout",
     "output_type": "stream",
     "text": [
      "Hello Capstone Project Course!\n"
     ]
    }
   ],
   "source": [
    "print (\"Hello Capstone Project Course!\")"
   ]
  },
  {
   "cell_type": "code",
   "execution_count": null,
   "id": "52a2bd5a",
   "metadata": {},
   "outputs": [],
   "source": []
  }
 ],
 "metadata": {
  "kernelspec": {
   "display_name": "Python 3.9.5 64-bit ('venv')",
   "language": "python",
   "name": "python395jvsc74a57bd0a31dc882e411d8c45ae191d61ce30c82c6a81547d6ec7e70a1e596abc3c2a78e"
  },
  "language_info": {
   "codemirror_mode": {
    "name": "ipython",
    "version": 3
   },
   "file_extension": ".py",
   "mimetype": "text/x-python",
   "name": "python",
   "nbconvert_exporter": "python",
   "pygments_lexer": "ipython3",
   "version": "3.9.5"
  }
 },
 "nbformat": 4,
 "nbformat_minor": 5
}
